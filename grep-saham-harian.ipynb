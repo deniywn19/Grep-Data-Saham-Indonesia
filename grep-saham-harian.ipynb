{
 "cells": [
  {
   "cell_type": "markdown",
   "id": "1c2e2a82",
   "metadata": {},
   "source": [
    "# 📚 Tutorial: Ambil Data Saham Indonesia Harian dengan Python\n",
    "Halo semuanya, selamat sore! mengisi waktu luang saya sempatkan untuk iseng mencoba bagaimana mendapatkan data  harga sebuah emiten saham melalui library yfinance. Dibilang iseng karena  saat sudah banyak tools  yang praktis yang membantu mencari detail informasi sebuah saham dan indikatornya sedangkan yang saya lakukan adalah melakukan secara manual atau menuliskan kode pythonya untuk menentukan data apa saja yang ingin didapatkan lalu menyimpan data itu dalam bentuk dokumen csv. \n",
    "\n",
    "Tools yang digunakan jupiter notebook alternatifnya google collabs atau visual studio code dengan envirovement python yang sudah diinstall, library pandas dan yfinance\n"
   ]
  },
  {
   "cell_type": "markdown",
   "id": "1287f854",
   "metadata": {},
   "source": [
    "## 🎯 Yang Akan Kita Pelajari:\n",
    "* Cara download data saham kerangka waktu harian\n",
    "* Memahami struktur data OHLCV (Open, High, Low, Close, Volume)\n",
    "* Export data ke CSV untuk analisis lebih lanjut"
   ]
  },
  {
   "cell_type": "markdown",
   "id": "c8aa2868",
   "metadata": {},
   "source": [
    "### Step 1: Import Library yang Dibutuhkan\n"
   ]
  },
  {
   "cell_type": "code",
   "execution_count": 22,
   "id": "610c0fb3",
   "metadata": {},
   "outputs": [],
   "source": [
    "import yfinance as yf\n",
    "import pandas as pd"
   ]
  },
  {
   "cell_type": "markdown",
   "id": "6e2fcc7c",
   "metadata": {},
   "source": [
    "**Penjelasan:**\n",
    "\n",
    "- yfinance = tools untuk download data saham dari Yahoo Finance (gratis!)\n",
    "- pandas = library untuk manipulasi data (seperti Excel tapi di Python)"
   ]
  },
  {
   "cell_type": "markdown",
   "id": "8ec2a4fa",
   "metadata": {},
   "source": [
    "### Step 2: Tentukan Saham yang Mau Kita Analisis\n"
   ]
  },
  {
   "cell_type": "code",
   "execution_count": null,
   "id": "47545c14",
   "metadata": {},
   "outputs": [],
   "source": [
    "# Untuk DAILY data\n",
    "symbols = ['MLPL.JK', 'BSBK.JK']\n",
    "start_date = '2025-09-10'\n",
    "end_date = '2025-09-14'"
   ]
  },
  {
   "cell_type": "markdown",
   "id": "72d55c5b",
   "metadata": {},
   "source": [
    "**Penjelasan:**\n",
    "\n",
    "- symbol = daftar kode saham Indonesia (format: KODE.JK)\n",
    "- start_date & end_date = rentang waktu data yang kita mau"
   ]
  },
  {
   "cell_type": "markdown",
   "id": "d9acd92a",
   "metadata": {},
   "source": [
    "### Step 3: Tampilkan data dengan Fungsi Loop untuk Setiap Saham"
   ]
  },
  {
   "cell_type": "code",
   "execution_count": null,
   "id": "c29b079e",
   "metadata": {},
   "outputs": [
    {
     "name": "stderr",
     "output_type": "stream",
     "text": [
      "[*********************100%***********************]  1 of 1 completed\n",
      "[*********************100%***********************]  1 of 1 completed"
     ]
    },
    {
     "name": "stdout",
     "output_type": "stream",
     "text": [
      "\n",
      "Data untuk MLPL.JK:\n",
      "Data 10 hari terakhir:\n",
      "Price         Open    High     Low   Close     Volume\n",
      "Ticker     MLPL.JK MLPL.JK MLPL.JK MLPL.JK    MLPL.JK\n",
      "Date                                                 \n",
      "2025-08-29   145.0   146.0   130.0   137.0  458109500\n",
      "2025-09-01   128.0   138.0   120.0   133.0  161398000\n",
      "2025-09-02   135.0   149.0   135.0   146.0  287884300\n",
      "2025-09-03   148.0   148.0   139.0   140.0  102026700\n",
      "2025-09-04   141.0   142.0   135.0   136.0   71561100\n",
      "2025-09-08   136.0   144.0   133.0   133.0  180130500\n",
      "2025-09-09   133.0   137.0   124.0   136.0  141157000\n",
      "2025-09-10   138.0   139.0   129.0   133.0   69429500\n",
      "2025-09-11   135.0   140.0   133.0   138.0  138120000\n",
      "2025-09-12   138.0   146.0   137.0   144.0  271650000\n",
      "Data berhasil disimpan ke file: MLPL_daily.csv\n",
      "\n",
      "Data untuk BSBK.JK:\n",
      "Data 10 hari terakhir:\n",
      "Price         Open    High     Low   Close      Volume\n",
      "Ticker     BSBK.JK BSBK.JK BSBK.JK BSBK.JK     BSBK.JK\n",
      "Date                                                  \n",
      "2025-08-29    95.0    97.0    81.0    83.0  2231781400\n",
      "2025-09-01    75.0    86.0    72.0    73.0   814920000\n",
      "2025-09-02    76.0    85.0    76.0    83.0   760653900\n",
      "2025-09-03    83.0    87.0    77.0    79.0   566541600\n",
      "2025-09-04    80.0    81.0    74.0    77.0   205267600\n",
      "2025-09-08    76.0    78.0    71.0    72.0   222608400\n",
      "2025-09-09    72.0    75.0    63.0    66.0   461211100\n",
      "2025-09-10    66.0    72.0    63.0    66.0   392344300\n",
      "2025-09-11    66.0    69.0    64.0    66.0   178201000\n",
      "2025-09-12    66.0    89.0    66.0    89.0  2864848400\n",
      "Data berhasil disimpan ke file: BSBK_daily.csv\n"
     ]
    },
    {
     "name": "stderr",
     "output_type": "stream",
     "text": [
      "\n"
     ]
    }
   ],
   "source": [
    "for symbol in symbols:\n",
    "    print(f\"\\nData untuk {symbol}:\")\n",
    "    # Download daily data (default behavior tanpa interval parameter)\n",
    "    df = yf.download(symbol, start=start_date, end=end_date)\n",
    "\n",
    "    if df.empty:\n",
    "        print('Data tidak tersedia untuk saham ini')\n",
    "    else:\n",
    "        # Langsung tampilkan data 5 hari terakhir\n",
    "        print(\"Data 10 hari terakhir:\")\n",
    "        print(df[['Open','High','Low','Close','Volume']].tail(10).to_string())\n",
    "        \n",
    "        # Simpan ke CSV dengan nama yang sesuai\n",
    "        df.to_csv(f\"{symbol.replace('.JK','')}_daily.csv\")\n",
    "        print(f\"Data berhasil disimpan ke file: {symbol.replace('.JK','')}_daily.csv\")"
   ]
  },
  {
   "cell_type": "markdown",
   "id": "4be56b04",
   "metadata": {},
   "source": [
    "### Penjelasan Step 3  perbagian"
   ]
  },
  {
   "cell_type": "markdown",
   "id": "edb02dc7",
   "metadata": {},
   "source": [
    "#### 1. Penggunaan Loop\n",
    "```python\n",
    "for symbol in symbols:\n",
    "    print(f\"\\nData untuk {symbol}:\")\n",
    "```\n",
    "**Penjelasan:** Kita pakai loop supaya bisa proses beberapa saham sekaligus tanpa copy-paste code"
   ]
  },
  {
   "cell_type": "markdown",
   "id": "39adf812",
   "metadata": {},
   "source": [
    "#### 2.  Download Data dari Yahoo Finance\n",
    "\n",
    "```python\n",
    "df = yf.download(symbol, start=start_date, end=end_date)\n",
    "```\n",
    "**Penjelasan:** baris code inilah yang download data penting yang telah ditentukan di step 2."
   ]
  },
  {
   "cell_type": "markdown",
   "id": "a8d7d352",
   "metadata": {},
   "source": [
    "#### 3. Cek Apakah Data Tersedia\n",
    "```python\n",
    "    if df.empty:\n",
    "        print('Data tidak tersedia untuk saham ini')\n",
    "    else:\n",
    "        # Langsung tampilkan data 5 hari terakhir\n",
    "```\n",
    "**Penjelasan:** Kadang data tidak tersedia untuk tanggal tertentu, misal cuti Bersama , suspensi  sehingga perlu menyiapkan response atas kondisi jika data tidak ditemukan.\n"
   ]
  },
  {
   "cell_type": "markdown",
   "id": "3ac60c72",
   "metadata": {},
   "source": [
    "#### 4. Tampilkan Data\n",
    "\n",
    "```python\n",
    "    else:\n",
    "        # Langsung tampilkan data 5 hari terakhir\n",
    "        print(\"Data 10 hari terakhir:\")\n",
    "        print(df[['Open','High','Low','Close','Volume']].tail(10).to_string())\n",
    "```\n",
    "\n",
    "**Penjelasan:**\n",
    "- Open = harga pembukaan\n",
    "- High = harga tertinggi\n",
    "- Low = harga terendah\n",
    "- Close = harga penutupan\n",
    "- Volume = jumlah saham yang diperdagangkan\n"
   ]
  },
  {
   "cell_type": "markdown",
   "id": "0653d922",
   "metadata": {},
   "source": [
    "#### 5.  Simpan ke File CSV\n",
    "```python\n",
    "        # Simpan ke CSV dengan nama yang sesuai\n",
    "        df.to_csv(f\"{symbol.replace('.JK','')}_daily.csv\")\n",
    "        print(f\"Data berhasil disimpan ke file: {symbol.replace('.JK','')}_daily.csv\")\n",
    "```\n",
    "**Penjelasan:** Simpan data ke file CSV supaya bisa dibuka di Excel atau Google Sheets untuk analisis lebih lanjut"
   ]
  },
  {
   "cell_type": "markdown",
   "id": "5504210b",
   "metadata": {},
   "source": []
  }
 ],
 "metadata": {
  "kernelspec": {
   "display_name": "Python 3",
   "language": "python",
   "name": "python3"
  },
  "language_info": {
   "codemirror_mode": {
    "name": "ipython",
    "version": 3
   },
   "file_extension": ".py",
   "mimetype": "text/x-python",
   "name": "python",
   "nbconvert_exporter": "python",
   "pygments_lexer": "ipython3",
   "version": "3.13.1"
  }
 },
 "nbformat": 4,
 "nbformat_minor": 5
}
